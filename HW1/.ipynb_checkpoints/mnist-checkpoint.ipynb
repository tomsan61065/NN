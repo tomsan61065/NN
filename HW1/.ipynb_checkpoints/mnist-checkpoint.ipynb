{
 "cells": [
  {
   "cell_type": "code",
   "execution_count": null,
   "metadata": {
    "colab": {
     "base_uri": "https://localhost:8080/",
     "height": 34
    },
    "colab_type": "code",
    "executionInfo": {
     "elapsed": 2629,
     "status": "ok",
     "timestamp": 1556855652236,
     "user": {
      "displayName": "Jerry Peng",
      "photoUrl": "https://lh5.googleusercontent.com/-X5dmdw86Bpo/AAAAAAAAAAI/AAAAAAAAAEc/gx43BV5vrGs/s64/photo.jpg",
      "userId": "10707771670913494566"
     },
     "user_tz": -480
    },
    "id": "eWoHtt5X0Qs_",
    "outputId": "f46bd4e5-2cce-4cab-ce0e-46b932d9b969",
    "scrolled": false
   },
   "outputs": [],
   "source": [
    "# load required packages\n",
    "import numpy as np\n",
    "import matplotlib.pyplot as plt\n",
    "%matplotlib inline\n",
    "\n",
    "# load required functionality from keras\n",
    "from keras.datasets import mnist\n",
    "from keras.models import Sequential\n",
    "from keras.layers import Dense, Dropout, Flatten\n",
    "from keras.layers import Conv2D, MaxPooling2D\n",
    "from keras.optimizers import RMSprop, Adadelta\n",
    "from keras.utils import np_utils\n",
    "from keras import backend as keras_backend\n",
    "from tensorflow.python.client import device_lib\n",
    "print(device_lib.list_local_devices())"
   ]
  },
  {
   "cell_type": "markdown",
   "metadata": {
    "colab_type": "text",
    "id": "ngzN9HbX0QtG"
   },
   "source": [
    "## MNIST Dataset\n",
    "The MNIST data set is a large database of handwritten digits (0-9) that is commonly used for training and benchmarking binary classification models.\n",
    "\n",
    "Before we create any models, we'll start by loading the MNIST data and viewing some sample images."
   ]
  },
  {
   "cell_type": "code",
   "execution_count": null,
   "metadata": {
    "colab": {
     "base_uri": "https://localhost:8080/",
     "height": 51
    },
    "colab_type": "code",
    "executionInfo": {
     "elapsed": 1250,
     "status": "ok",
     "timestamp": 1556855669571,
     "user": {
      "displayName": "Jerry Peng",
      "photoUrl": "https://lh5.googleusercontent.com/-X5dmdw86Bpo/AAAAAAAAAAI/AAAAAAAAAEc/gx43BV5vrGs/s64/photo.jpg",
      "userId": "10707771670913494566"
     },
     "user_tz": -480
    },
    "id": "B_BlV7do0QtH",
    "outputId": "f72529d5-247d-4822-dbb2-5b9ca2cee9d4"
   },
   "outputs": [],
   "source": [
    "from keras.datasets import mnist\n",
    "\n",
    "# split MNIST data into training and testing sets\n",
    "# - training: data used to learn the model parameters\n",
    "# - testing: a separate set that we will use to validate our model performance\n",
    "(X_train, y_train), (X_test, y_test) = mnist.load_data()\n",
    "#http://yann.lecun.com/exdb/mnist/ 資料來源"
   ]
  },
  {
   "cell_type": "code",
   "execution_count": null,
   "metadata": {
    "colab": {
     "base_uri": "https://localhost:8080/",
     "height": 34
    },
    "colab_type": "code",
    "executionInfo": {
     "elapsed": 728,
     "status": "ok",
     "timestamp": 1556855679201,
     "user": {
      "displayName": "Jerry Peng",
      "photoUrl": "https://lh5.googleusercontent.com/-X5dmdw86Bpo/AAAAAAAAAAI/AAAAAAAAAEc/gx43BV5vrGs/s64/photo.jpg",
      "userId": "10707771670913494566"
     },
     "user_tz": -480
    },
    "id": "ZFoAr7kV0QtN",
    "outputId": "d6b218e1-fab5-4935-afc5-9641058846fc"
   },
   "outputs": [],
   "source": [
    "# check the dimensions of the data\n",
    "print( X_train.shape ) # 60000筆 28*28"
   ]
  },
  {
   "cell_type": "code",
   "execution_count": null,
   "metadata": {
    "colab": {
     "base_uri": "https://localhost:8080/",
     "height": 269
    },
    "colab_type": "code",
    "executionInfo": {
     "elapsed": 694,
     "status": "ok",
     "timestamp": 1556855703869,
     "user": {
      "displayName": "Jerry Peng",
      "photoUrl": "https://lh5.googleusercontent.com/-X5dmdw86Bpo/AAAAAAAAAAI/AAAAAAAAAEc/gx43BV5vrGs/s64/photo.jpg",
      "userId": "10707771670913494566"
     },
     "user_tz": -480
    },
    "id": "POw937pI0QtS",
    "outputId": "cff9e2f5-df09-40bb-be02-029498930397",
    "scrolled": true
   },
   "outputs": [],
   "source": [
    "# select an image\n",
    "img = X_train[0]\n",
    "\n",
    "# show the image\n",
    "plt.imshow(img, cmap='gray')\n",
    "plt.show()"
   ]
  },
  {
   "cell_type": "code",
   "execution_count": null,
   "metadata": {
    "colab": {
     "base_uri": "https://localhost:8080/",
     "height": 281
    },
    "colab_type": "code",
    "executionInfo": {
     "elapsed": 1120,
     "status": "ok",
     "timestamp": 1556855746563,
     "user": {
      "displayName": "Jerry Peng",
      "photoUrl": "https://lh5.googleusercontent.com/-X5dmdw86Bpo/AAAAAAAAAAI/AAAAAAAAAEc/gx43BV5vrGs/s64/photo.jpg",
      "userId": "10707771670913494566"
     },
     "user_tz": -480
    },
    "id": "TRi_sEYl0QtX",
    "outputId": "7ac3f94f-0f51-4930-b708-4111cd5f1ea7"
   },
   "outputs": [],
   "source": [
    "# select one of the images and its corresponding label\n",
    "#每張圖都是 28*28，但實際數字的大小為 20*20 置中有黑色的邊框\n",
    "i = 403\n",
    "img = X_train[i]\n",
    "label = y_train[i]\n",
    "\n",
    "# show the image and its label\n",
    "plt.imshow(img, cmap='gray')\n",
    "plt.title(\"True label: %d\" % label)\n",
    "plt.show()"
   ]
  },
  {
   "cell_type": "code",
   "execution_count": null,
   "metadata": {
    "colab": {},
    "colab_type": "code",
    "id": "C3V2ifxq0Qtd"
   },
   "outputs": [],
   "source": [
    "\"\"\"\n",
    "pre-process the MNIST data:\n",
    "    reshape the MNIST images into 1D arrays (from 2D arrays)\n",
    "    normalize the MNIST images\n",
    "    convert the MNIST labels\n",
    "\"\"\"\n",
    "# reshape the data: (n_samples, 28, 28) => (n_samples, 28*28)\n",
    "X_train = X_train.reshape(-1, 28 * 28)\n",
    "X_test = X_test.reshape(-1, 28 * 28)\n",
    "\n",
    "# convert data type and normalize the values (8-bit = 256 = 0...255)\n",
    "X_train = X_train.astype('float32') / 255\n",
    "X_test = X_test.astype('float32') / 255\n",
    "\n",
    "# convert the class labels to 10-dimensional class arrays:\n",
    "# 0~9 有大小差別的問題，所以轉成 bag of words(vector)\n",
    "# - before: y_train = (n_samples, )\n",
    "# - after: Y_train = (n_samples, 10)\n",
    "#\n",
    "Y_train = np_utils.to_categorical(y_train, 10)# keras 用 numpy 寫成的 function \n",
    "Y_test = np_utils.to_categorical(y_test, 10)# 詳情看 https://keras.io/utils/\n",
    "\n",
    "#y_Train = np.eye(10)[y_train] #這樣寫有同樣的效果 identity matrix 第 y_train row\n",
    "#print(y_Train[0])"
   ]
  },
  {
   "cell_type": "code",
   "execution_count": null,
   "metadata": {
    "colab": {
     "base_uri": "https://localhost:8080/",
     "height": 34
    },
    "colab_type": "code",
    "executionInfo": {
     "elapsed": 694,
     "status": "ok",
     "timestamp": 1556856059689,
     "user": {
      "displayName": "Jerry Peng",
      "photoUrl": "https://lh5.googleusercontent.com/-X5dmdw86Bpo/AAAAAAAAAAI/AAAAAAAAAEc/gx43BV5vrGs/s64/photo.jpg",
      "userId": "10707771670913494566"
     },
     "user_tz": -480
    },
    "id": "6K0IQpBy2dEk",
    "outputId": "314d6dee-83d1-455f-e1a9-acd1f775e367"
   },
   "outputs": [],
   "source": [
    "\n",
    "print(y_train[0], Y_train[0])"
   ]
  },
  {
   "cell_type": "code",
   "execution_count": null,
   "metadata": {},
   "outputs": [],
   "source": [
    "#P(C|x) -> P(C^x)/P(x) = h(W) = 1/(1 + e**(-W0 -W1*x1 - W2*x2) )\n",
    "##[-36.03185422  45.27976297  51.53652281]\n",
    "#initial values\n",
    "W0 = 35.0\n",
    "W1 = -15.0\n",
    "W2 = 15.0\n",
    "lr = 1\n",
    "iteration = 100000\n",
    "\n",
    "W0Lr = 0.0\n",
    "W1Lr = 0.0\n",
    "W2Lr = 0.0\n",
    "\n",
    "W0_history = [W0]\n",
    "W1_history = [W1]\n",
    "W2_history = [W2]    \n",
    "\n",
    "#print(len(trainDataX)) #70\n",
    "\n",
    "\n",
    "def logistic_func(s):\n",
    "    return 1/(1+np.exp(-s))\n",
    "def predict_logistic(weight , x):\n",
    "    x = np.append(x,one)\n",
    "    score = logistic_func(np.dot(weight,x))\n",
    "    if score > 0.5:\n",
    "        return 1\n",
    "    else:\n",
    "        return 0\n",
    "\n",
    "weight = np.random.uniform(size=[3])\n",
    "print(weight)\n",
    "weight = np.array([W1, W2, W0])\n",
    "one = np.array([1])\n",
    "\n",
    "for i in range(iteration):\n",
    "    W0Grad = 0.0\n",
    "    W1Grad = 0.0\n",
    "    W2Grad = 0.0\n",
    "    \n",
    "    if i % 1000 == 0:\n",
    "        acc = 0\n",
    "        for n in range(len(testX)):\n",
    "            x = testX[n,:]\n",
    "            y = testY[n]\n",
    "            pred = predict_logistic(weight,x)\n",
    "            if pred == y:\n",
    "                acc+=1\n",
    "        print(acc/len(testX))\n",
    "            \n",
    "            \n",
    "        print(weight[2], weight[0], weight[1])\n",
    "        #print(W0, W1, W2)\n",
    "#        print(W0Lr, W1Lr, W2Lr)\n",
    "    \n",
    "    #計算 gradient\n",
    "    grad = np.zeros([3])\n",
    "    for n in range(len( trainDataX)):\n",
    "        x = trainDataX[n,:]\n",
    "        y = trainDataY[n]\n",
    "        if y == 0:\n",
    "            y = -1\n",
    "        x = np.append(x,one)\n",
    "        grad += logistic_func(-y*(np.dot(weight,x)  ))*(-y*x) \n",
    "            #print(grad)\n",
    "    \n",
    "    #grad /= len(trainDataX)\n",
    "    weight -= lr * grad \n",
    "    #break\n",
    "    \n",
    "    \n",
    "    \n",
    "    \n",
    "    #W0Lr += W0Grad ** 2\n",
    "    #W1Lr += W1Grad ** 2\n",
    "    #W2Lr += W2Grad ** 2\n",
    "    \n",
    "    #更新 gradient\n",
    "    #W0 = W0 - lr * W0Grad\n",
    "    #W1 = W1 - lr * W1Grad\n",
    "    #W2 = W2 - lr * W2Grad\n",
    "    \n",
    "    # Store parameters for plotting\n",
    "    W0_history.append(weight[2])\n",
    "    W1_history.append(weight[0])\n",
    "    W2_history.append(weight[1])"
   ]
  },
  {
   "cell_type": "code",
   "execution_count": null,
   "metadata": {
    "colab": {
     "base_uri": "https://localhost:8080/",
     "height": 785
    },
    "colab_type": "code",
    "executionInfo": {
     "elapsed": 20677,
     "status": "ok",
     "timestamp": 1556856287187,
     "user": {
      "displayName": "Jerry Peng",
      "photoUrl": "https://lh5.googleusercontent.com/-X5dmdw86Bpo/AAAAAAAAAAI/AAAAAAAAAEc/gx43BV5vrGs/s64/photo.jpg",
      "userId": "10707771670913494566"
     },
     "user_tz": -480
    },
    "id": "mNF81u_h0Qtg",
    "outputId": "78f60761-d8b0-4dc8-eebf-59a23aa1dc32"
   },
   "outputs": [],
   "source": [
    "# create the model\n",
    "model = Sequential()\n",
    "model.add(Dense(10, input_dim=28*28, activation='softmax'))\n",
    "\n",
    "# compile the model\n",
    "#model.compile(loss='categorical_crossentropy',\n",
    "#              optimizer='sgd',\n",
    "#              metrics=['accuracy'])            \n",
    "model.compile(loss='mean_squared_error',\n",
    "              optimizer='sgd',\n",
    "              metrics=['accuracy'])            \n",
    "\n",
    "\n",
    "# train the model on data\n",
    "model.fit(X_train, Y_train,\n",
    "          batch_size=128, # how many images to look at together\n",
    "          nb_epoch=20,       # how many epochs to run before stopping\n",
    "          #舊版寫法，新版 epochs\n",
    "          verbose=1,\n",
    "          validation_data=(X_test, Y_test)\n",
    "         )\n",
    "\n",
    "# test the trained model on the testing set\n",
    "score = model.evaluate(X_test, Y_test, verbose=0) \n",
    "\n",
    "print('Test score:', score[0]) \n",
    "print('Test accuracy:', score[1])"
   ]
  },
  {
   "cell_type": "code",
   "execution_count": null,
   "metadata": {
    "colab": {
     "base_uri": "https://localhost:8080/",
     "height": 281
    },
    "colab_type": "code",
    "executionInfo": {
     "elapsed": 722,
     "status": "ok",
     "timestamp": 1556841196972,
     "user": {
      "displayName": "Jerry Peng",
      "photoUrl": "https://lh5.googleusercontent.com/-X5dmdw86Bpo/AAAAAAAAAAI/AAAAAAAAAEc/gx43BV5vrGs/s64/photo.jpg",
      "userId": "10707771670913494566"
     },
     "user_tz": -480
    },
    "id": "62uUbq530Qtm",
    "outputId": "78b71840-df89-407a-bfa6-c4f2a0dd20bd"
   },
   "outputs": [],
   "source": [
    "# select an image\n",
    "i = 200\n",
    "img = X_test[i].reshape(28, 28)\n",
    "\n",
    "# prepare the image to be used in the model\n",
    "x = img.reshape(-1, 28*28)\n",
    "\n",
    "# get the model output\n",
    "model_label = np.argmax( model.predict(x) )\n",
    "\n",
    "# get the true label\n",
    "true_label = np.argmax(Y_test[i])\n",
    "\n",
    "plt.imshow(img, cmap='gray')\n",
    "plt.title('True label: {0}, Model label: {1}'.format(true_label, model_label))\n",
    "plt.show()"
   ]
  },
  {
   "cell_type": "code",
   "execution_count": null,
   "metadata": {},
   "outputs": [],
   "source": []
  }
 ],
 "metadata": {
  "colab": {
   "collapsed_sections": [],
   "name": "1_mnist.ipynb",
   "provenance": [],
   "version": "0.3.2"
  },
  "kernelspec": {
   "display_name": "Python 3",
   "language": "python",
   "name": "python3"
  },
  "language_info": {
   "codemirror_mode": {
    "name": "ipython",
    "version": 3
   },
   "file_extension": ".py",
   "mimetype": "text/x-python",
   "name": "python",
   "nbconvert_exporter": "python",
   "pygments_lexer": "ipython3",
   "version": "3.7.2"
  }
 },
 "nbformat": 4,
 "nbformat_minor": 1
}
